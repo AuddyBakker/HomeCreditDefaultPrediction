{
 "cells": [
  {
   "cell_type": "code",
   "execution_count": 1,
   "metadata": {},
   "outputs": [],
   "source": [
    "import numpy as np\n",
    "import pandas as pd\n",
    "import matplotlib.pyplot as plt\n",
    "import csv\n",
    "from sklearn.linear_model import LogisticRegression\n",
    "from xgboost import XGBClassifier\n",
    "from sklearn.model_selection import train_test_split\n",
    "from sklearn.metrics import accuracy_score"
   ]
  },
  {
   "cell_type": "code",
   "execution_count": 2,
   "metadata": {},
   "outputs": [
    {
     "name": "stdout",
     "output_type": "stream",
     "text": [
      "\n",
      "app_train\n",
      "(306562, 9)\n"
     ]
    }
   ],
   "source": [
    "train = pd.read_csv('data/HomeCreditDefault/application_train_cleaned.csv')\n",
    "df_train = pd.read_csv('data/HomeCreditDefault/application_train.csv')\n",
    "df_train = df_train[['SK_ID_CURR', 'TARGET', 'REGION_POPULATION_RELATIVE', 'DAYS_EMPLOYED', \n",
    "                     'EXT_SOURCE_2', 'AMT_INCOME_TOTAL', 'AMT_CREDIT', 'AMT_ANNUITY', \n",
    "                     'AMT_GOODS_PRICE']].copy()\n",
    "df_train = df_train.dropna()\n",
    "print(\"\\napp_train\")\n",
    "print(df_train.shape)"
   ]
  },
  {
   "cell_type": "code",
   "execution_count": 3,
   "metadata": {},
   "outputs": [],
   "source": [
    "test = pd.read_csv('data/HomeCreditDefault/application_test.csv')\n",
    "\n",
    "\n",
    "app_test = test[['SK_ID_CURR', 'NAME_CONTRACT_TYPE', 'CODE_GENDER', 'FLAG_OWN_CAR', \n",
    "           'FLAG_OWN_REALTY', 'CNT_CHILDREN', 'AMT_INCOME_TOTAL', 'AMT_CREDIT', \n",
    "           'AMT_ANNUITY', 'AMT_GOODS_PRICE', 'NAME_INCOME_TYPE', 'NAME_EDUCATION_TYPE', \n",
    "           'OWN_CAR_AGE']].copy()\n"
   ]
  },
  {
   "cell_type": "code",
   "execution_count": 4,
   "metadata": {},
   "outputs": [
    {
     "name": "stdout",
     "output_type": "stream",
     "text": [
      "(48720, 11)\n"
     ]
    }
   ],
   "source": [
    "own_car = pd.get_dummies(train['FLAG_OWN_CAR'])\n",
    "own_realty = pd.get_dummies(train['FLAG_OWN_REALTY'])\n",
    "app_test['OWN_CAR_AND_REALTY'] = own_car['Y'] * own_realty['Y']\n",
    "app_test['GENDER'] = pd.get_dummies(app_test['CODE_GENDER'])['M']\n",
    "app_test['CONTRACT_TYPE'] = pd.get_dummies(app_test['NAME_CONTRACT_TYPE'])['Cash loans']\n",
    "\n",
    "app_test = app_test.drop(['FLAG_OWN_CAR', 'FLAG_OWN_REALTY', 'CODE_GENDER', 'OWN_CAR_AGE', 'NAME_CONTRACT_TYPE'], axis=1)\n",
    "app_test = app_test.dropna()\n",
    "print(app_test.shape)"
   ]
  },
  {
   "cell_type": "markdown",
   "metadata": {},
   "source": [
    "OWN_CAR_AND_REALTY: 1 for yes, 0 for no  \n",
    "GENDER: 1 for Male, 0 for Female  \n",
    "CONTRACT_TYPE: 1 for Cash Loan, 0 for Revolving loan"
   ]
  },
  {
   "cell_type": "code",
   "execution_count": 5,
   "metadata": {},
   "outputs": [
    {
     "name": "stdout",
     "output_type": "stream",
     "text": [
      "(307221, 11)\n"
     ]
    }
   ],
   "source": [
    "own_car = pd.get_dummies(train['FLAG_OWN_CAR'])\n",
    "own_realty = pd.get_dummies(train['FLAG_OWN_REALTY'])\n",
    "train['OWN_CAR_AND_REALTY'] = own_car['Y'] * own_realty['Y']\n",
    "train['GENDER'] = pd.get_dummies(train['CODE_GENDER'])['M']\n",
    "train['CONTRACT_TYPE'] = pd.get_dummies(train['NAME_CONTRACT_TYPE'])['Cash loans']\n",
    "\n",
    "train = train.drop(['FLAG_OWN_CAR', 'FLAG_OWN_REALTY', 'CODE_GENDER', 'OWN_CAR_AGE', 'NAME_CONTRACT_TYPE'], axis=1)\n",
    "train = train.dropna()\n",
    "target = train['TARGET']\n",
    "train = train.drop(['TARGET'], axis=1)\n",
    "print(np.shape(train))"
   ]
  },
  {
   "cell_type": "code",
   "execution_count": 6,
   "metadata": {},
   "outputs": [],
   "source": [
    "X = train[['CNT_CHILDREN', 'AMT_INCOME_TOTAL', 'AMT_CREDIT', 'AMT_ANNUITY', 'AMT_GOODS_PRICE',\n",
    "          'OWN_CAR_AND_REALTY', 'GENDER', 'CONTRACT_TYPE']]\n",
    "y = target"
   ]
  },
  {
   "cell_type": "markdown",
   "metadata": {},
   "source": [
    "# Logistic Regression"
   ]
  },
  {
   "cell_type": "code",
   "execution_count": 7,
   "metadata": {},
   "outputs": [
    {
     "name": "stderr",
     "output_type": "stream",
     "text": [
      "C:\\Users\\austi\\newAnaconda3\\lib\\site-packages\\sklearn\\linear_model\\logistic.py:432: FutureWarning: Default solver will be changed to 'lbfgs' in 0.22. Specify a solver to silence this warning.\n",
      "  FutureWarning)\n"
     ]
    },
    {
     "data": {
      "text/plain": [
       "array([0, 0, 0, ..., 0, 0, 0], dtype=int64)"
      ]
     },
     "execution_count": 7,
     "metadata": {},
     "output_type": "execute_result"
    }
   ],
   "source": [
    "y_log = df_train['TARGET']\n",
    "X_log = df_train.drop(['TARGET', 'SK_ID_CURR'], axis=1)\n",
    "\n",
    "\n",
    "seed = 7\n",
    "test_size = 0.33\n",
    "X_train, X_test, y_train, y_test = train_test_split(X_log, y_log, test_size=test_size, random_state=seed)\n",
    "\n",
    "\n",
    "clf = LogisticRegression(random_state=0).fit(X, y)\n",
    "clf.predict(X)"
   ]
  },
  {
   "cell_type": "code",
   "execution_count": 8,
   "metadata": {},
   "outputs": [
    {
     "data": {
      "text/plain": [
       "array([[0.92708774, 0.07291226],\n",
       "       [0.97777975, 0.02222025],\n",
       "       [0.70441667, 0.29558333],\n",
       "       ...,\n",
       "       [0.91792972, 0.08207028],\n",
       "       [0.89427548, 0.10572452],\n",
       "       [0.96819319, 0.03180681]])"
      ]
     },
     "execution_count": 8,
     "metadata": {},
     "output_type": "execute_result"
    }
   ],
   "source": [
    "clf.predict_proba(X)"
   ]
  },
  {
   "cell_type": "code",
   "execution_count": 9,
   "metadata": {},
   "outputs": [
    {
     "name": "stdout",
     "output_type": "stream",
     "text": [
      "Accuracy: 91.93%\n"
     ]
    }
   ],
   "source": [
    "score = clf.score(X, y)\n",
    "print(\"Accuracy: {}\".format(np.round(score * 100.0, 2)) + '%')"
   ]
  },
  {
   "cell_type": "markdown",
   "metadata": {},
   "source": [
    "# XGBoost"
   ]
  },
  {
   "cell_type": "markdown",
   "metadata": {},
   "source": [
    "XGBoost model only uses REGION_POPULATION_RELATIVE, DAYS_EMPLOYED, EXT_SOURCE_2, AMT_INCOME_TOTAL, AMT_CREDIT, AMT_ANNUITY, and AMT_GOODS_PRICE. "
   ]
  },
  {
   "cell_type": "code",
   "execution_count": 11,
   "metadata": {},
   "outputs": [],
   "source": [
    "y_xgboost = df_train['TARGET']\n",
    "X_xgboost = df_train.drop(['TARGET', 'SK_ID_CURR'], axis=1)"
   ]
  },
  {
   "cell_type": "code",
   "execution_count": 12,
   "metadata": {},
   "outputs": [
    {
     "name": "stdout",
     "output_type": "stream",
     "text": [
      "Accuracy: 92.06%\n"
     ]
    }
   ],
   "source": [
    "# split data into train and test sets\n",
    "seed = 7\n",
    "test_size = 0.33\n",
    "X_train, X_test, y_train, y_test = train_test_split(X_xgboost, y_xgboost, test_size=test_size, random_state=seed)\n",
    "# fit model no training data\n",
    "model = XGBClassifier()\n",
    "model.fit(X_train, y_train)\n",
    "# make predictions for test data\n",
    "y_pred = model.predict(X_test)\n",
    "predictions = [value for value in y_pred]\n",
    "# evaluate predictions\n",
    "accuracy = accuracy_score(y_test, predictions)\n",
    "print(\"Accuracy: {}\".format(np.round(accuracy * 100.0, 2)) + '%')"
   ]
  },
  {
   "cell_type": "code",
   "execution_count": 13,
   "metadata": {},
   "outputs": [
    {
     "name": "stdout",
     "output_type": "stream",
     "text": [
      "120\n"
     ]
    }
   ],
   "source": [
    "print(sum(predictions))"
   ]
  },
  {
   "cell_type": "code",
   "execution_count": 14,
   "metadata": {},
   "outputs": [
    {
     "data": {
      "text/plain": [
       "8014"
      ]
     },
     "execution_count": 14,
     "metadata": {},
     "output_type": "execute_result"
    }
   ],
   "source": [
    "sum(y_test)\n"
   ]
  },
  {
   "cell_type": "code",
   "execution_count": null,
   "metadata": {},
   "outputs": [],
   "source": []
  }
 ],
 "metadata": {
  "kernelspec": {
   "display_name": "Python 3",
   "language": "python",
   "name": "python3"
  },
  "language_info": {
   "codemirror_mode": {
    "name": "ipython",
    "version": 3
   },
   "file_extension": ".py",
   "mimetype": "text/x-python",
   "name": "python",
   "nbconvert_exporter": "python",
   "pygments_lexer": "ipython3",
   "version": "3.7.4"
  }
 },
 "nbformat": 4,
 "nbformat_minor": 2
}
